{
 "cells": [
  {
   "cell_type": "code",
   "execution_count": 1,
   "id": "0a3be189",
   "metadata": {},
   "outputs": [
    {
     "name": "stderr",
     "output_type": "stream",
     "text": [
      "/Users/mburhanpurkar/miniforge3/envs/tf/lib/python3.8/site-packages/tensorflow_addons/utils/ensure_tf_install.py:54: UserWarning: Tensorflow Addons supports using Python ops for all Tensorflow versions above or equal to 2.2.0 and strictly below 2.4.0 (nightly versions are not supported). \n",
      " The versions of TensorFlow you are currently using is 2.4.0-rc0 and is not supported. \n",
      "Some things might work, some things might not.\n",
      "If you were to encounter a bug, do not file an issue.\n",
      "If you want to make sure you're using a tested and supported configuration, either change the TensorFlow version or the TensorFlow Addons's version. \n",
      "You can find the compatibility matrix in TensorFlow Addon's readme:\n",
      "https://github.com/tensorflow/addons\n",
      "  warnings.warn(\n"
     ]
    }
   ],
   "source": [
    "import numpy as np\n",
    "import tensorflow as tf \n",
    "from tensorflow import keras\n",
    "import matplotlib.pyplot as plt\n",
    "from sklearn.datasets import fetch_openml\n",
    "from sklearn.linear_model import LogisticRegression\n",
    "from sklearn.model_selection import train_test_split\n",
    "from sklearn.preprocessing import StandardScaler, MinMaxScaler\n",
    "from sklearn.utils import check_random_state\n",
    "from scipy import interpolate"
   ]
  },
  {
   "cell_type": "code",
   "execution_count": 21,
   "id": "9e89ef0b",
   "metadata": {},
   "outputs": [],
   "source": [
    "def upsample(dim_new, arr):\n",
    "    dim_old = np.shape(arr)[0]\n",
    "    assert np.shape(arr)[0] == np.shape(arr)[1]\n",
    "    x = np.arange(dim_old)\n",
    "    f = interpolate.interp2d(x, x, arr, kind='linear')\n",
    "    xnew = np.linspace(0, dim_old, dim_new)\n",
    "    ynew = np.linspace(0, dim_old, dim_new)\n",
    "    return f(xnew, ynew)\n",
    "\n",
    "def show_digits(X, y, i):\n",
    "    fig, ax = plt.subplots(1, len(i), sharex=True)\n",
    "    for k, j in enumerate(i):\n",
    "        ax[k].imshow(X[j])\n",
    "        ax[k].set_title(y[j])\n",
    "        ax[k].axis('off')\n",
    "    plt.tight_layout()\n",
    "    plt.show()\n",
    "    \n",
    "def mse(x, y):\n",
    "    return np.mean((x - y)**2)\n",
    "\n",
    "def mae(x, y):\n",
    "    return np.mean(np.abs(x - y))"
   ]
  },
  {
   "cell_type": "markdown",
   "id": "ddaf03be",
   "metadata": {},
   "source": [
    "# Redo the Last Test Except with Larger Models!\n",
    "In the last experiment, we used LeNet-5, which is known to actually be reasonably well-calibrated! To get more pronounced results, we need to use larger/deeper networks. Let's start off by trying a relatively simple ResNet.\n",
    "\n",
    "First, we need to upsample the inputs..."
   ]
  },
  {
   "cell_type": "code",
   "execution_count": 3,
   "id": "379b5a74",
   "metadata": {},
   "outputs": [
    {
     "name": "stdout",
     "output_type": "stream",
     "text": [
      "(70000, 784) (70000,)\n",
      "(6500, 784) (500, 784) (63000, 784)\n",
      "(6500,) (500,) (63000,)\n"
     ]
    }
   ],
   "source": [
    "X, y = fetch_openml('mnist_784', version=1, return_X_y=True, as_frame=False)\n",
    "print(np.shape(X), np.shape(y))\n",
    "\n",
    "y = list(map(int, y))\n",
    "y = list(map(lambda x: x > 4, y))\n",
    "y = list(map(int, y))\n",
    "y = np.array(y)\n",
    "\n",
    "n_train = 6500\n",
    "n_valid = 500\n",
    "n_test = len(X) - n_train - n_valid\n",
    "\n",
    "random_state = check_random_state(0)\n",
    "permutation = random_state.permutation(X.shape[0])\n",
    "X = X[permutation]\n",
    "y = y[permutation]\n",
    "X = X.reshape((X.shape[0], -1))\n",
    "\n",
    "X_train, X_valid_tmp, y_train, y_valid_tmp = train_test_split(\n",
    "    X, y, train_size=n_train)\n",
    "X_valid, X_test, y_valid, y_test = train_test_split(\n",
    "    X_valid_tmp, y_valid_tmp, train_size=n_valid)\n",
    "\n",
    "print(np.shape(X_train), np.shape(X_valid), np.shape(X_test))\n",
    "print(np.shape(y_train), np.shape(y_valid), np.shape(y_test))\n",
    "\n",
    "scaler = StandardScaler() # MinMaxScaler() performs worse\n",
    "X_train = scaler.fit_transform(X_train)\n",
    "X_valid = scaler.transform(X_valid)\n",
    "X_test = scaler.transform(X_test)"
   ]
  },
  {
   "cell_type": "markdown",
   "id": "07ad8425",
   "metadata": {},
   "source": [
    "Then, we need to re-classify with the logistic regressor..."
   ]
  },
  {
   "cell_type": "code",
   "execution_count": 4,
   "id": "d3d9237d",
   "metadata": {},
   "outputs": [
    {
     "name": "stdout",
     "output_type": "stream",
     "text": [
      "Test score: 0.8440\n"
     ]
    },
    {
     "data": {
      "image/png": "[encoded data removed]",
      "text/plain": [
       "<Figure size 432x288 with 2 Axes>"
      ]
     },
     "metadata": {},
     "output_type": "display_data"
    }
   ],
   "source": [
    "clf = LogisticRegression(solver='saga', penalty='l1', C=50. / n_train, tol=0.01, max_iter=10000)\n",
    "clf.fit(X_train, y_train)\n",
    "\n",
    "sparsity = np.mean(clf.coef_ == 0) * 100\n",
    "score = clf.score(X_valid, y_valid)\n",
    "print(\"Test score: %.4f\" % score)\n",
    "\n",
    "coef = clf.coef_.copy()\n",
    "scale = np.abs(coef).max()\n",
    "fig, ax = plt.subplots(1, 2, sharex=True)\n",
    "ax[0].imshow(coef.reshape(28, 28), interpolation='nearest',\n",
    "               cmap=plt.cm.RdBu, vmin=-scale, vmax=scale)\n",
    "ax[1].imshow((coef * -1).reshape(28, 28), interpolation='nearest',\n",
    "               cmap=plt.cm.RdBu, vmin=-scale, vmax=scale)\n",
    "ax[0].set_xticks(())\n",
    "ax[0].set_yticks(())\n",
    "ax[0].set_xlabel('Class 0')\n",
    "ax[1].set_xticks(())\n",
    "ax[1].set_yticks(())\n",
    "ax[1].set_xlabel('Class 0')\n",
    "plt.suptitle('Classification vector for...')\n",
    "plt.show()"
   ]
  },
  {
   "cell_type": "markdown",
   "id": "21c232a8",
   "metadata": {},
   "source": [
    "Generate train/valid/test..."
   ]
  },
  {
   "cell_type": "code",
   "execution_count": 5,
   "id": "9a8559c6",
   "metadata": {},
   "outputs": [
    {
     "name": "stdout",
     "output_type": "stream",
     "text": [
      "(55000, 784) (3000, 784) (5000, 784)\n",
      "(55000,) (3000,) (5000,)\n",
      "(55000, 28, 28, 1) (3000, 28, 28, 1) (5000, 28, 28, 1)\n"
     ]
    }
   ],
   "source": [
    "X_train, X_valid, y_train, y_valid = train_test_split(\n",
    "    X_test, y_test, train_size=55000)\n",
    "X_valid, X_test, y_valid, y_test = train_test_split(\n",
    "    X_valid, y_valid, train_size=3000)\n",
    "print(np.shape(X_train), np.shape(X_valid), np.shape(X_test))\n",
    "print(np.shape(y_train), np.shape(y_valid), np.shape(y_test))\n",
    "\n",
    "p_star_train = clf.predict_proba(X_train)[:, 1]\n",
    "p_star_valid = clf.predict_proba(X_valid)[:, 1]\n",
    "p_star_test = clf.predict_proba(X_test)[:, 1]\n",
    "\n",
    "X_train = np.reshape(X_train, (-1, 28, 28, 1))\n",
    "X_valid = np.reshape(X_valid, (-1, 28, 28, 1))\n",
    "X_test = np.reshape(X_test, (-1, 28, 28, 1))\n",
    "print(np.shape(X_train), np.shape(X_valid), np.shape(X_test))\n",
    "\n",
    "y_train = np.random.binomial(1, p_star_train)\n",
    "y_valid = np.random.binomial(1, p_star_valid)\n",
    "y_test = np.random.binomial(1, p_star_test)"
   ]
  },
  {
   "cell_type": "code",
   "execution_count": 6,
   "id": "5f80b8d2",
   "metadata": {},
   "outputs": [
    {
     "data": {
      "image/png": "[encoded data removed]",
      "text/plain": [
       "<Figure size 432x288 with 1 Axes>"
      ]
     },
     "metadata": {
      "needs_background": "light"
     },
     "output_type": "display_data"
    }
   ],
   "source": [
    "plt.hist(p_star_test, bins=40)\n",
    "plt.show()"
   ]
  },
  {
   "cell_type": "markdown",
   "id": "e88e0309",
   "metadata": {},
   "source": [
    "Upsample the x values"
   ]
  },
  {
   "cell_type": "code",
   "execution_count": 7,
   "id": "a72df94f",
   "metadata": {},
   "outputs": [
    {
     "data": {
      "image/png": "[encoded data removed]",
      "text/plain": [
       "<Figure size 432x288 with 10 Axes>"
      ]
     },
     "metadata": {
      "needs_background": "light"
     },
     "output_type": "display_data"
    }
   ],
   "source": [
    "X_train_new = np.empty((len(X_train), 32, 32, 1))\n",
    "for i, img in enumerate(X_train):\n",
    "    X_train_new[i] = upsample(32, img).reshape(32, 32, 1)\n",
    "    \n",
    "X_valid_new = np.empty((len(X_valid), 32, 32, 1))\n",
    "for i, img in enumerate(X_valid):\n",
    "    X_valid_new[i] = upsample(32, img).reshape(32, 32, 1)\n",
    "    \n",
    "X_test_new = np.empty((len(X_test), 32, 32, 1))\n",
    "for i, img in enumerate(X_test):\n",
    "    X_test_new[i] = upsample(32, img).reshape(32, 32, 1)\n",
    "    \n",
    "show_digits(X_train_new, y_train, range(10))"
   ]
  },
  {
   "cell_type": "code",
   "execution_count": 12,
   "id": "14bbcdc0",
   "metadata": {},
   "outputs": [],
   "source": [
    "X_train = X_train_new\n",
    "X_valid = X_valid_new\n",
    "X_test = X_test_new"
   ]
  },
  {
   "cell_type": "markdown",
   "id": "8d959326",
   "metadata": {},
   "source": [
    "# Train ResNet"
   ]
  },
  {
   "cell_type": "code",
   "execution_count": 79,
   "id": "6e0e6526",
   "metadata": {
    "scrolled": false
   },
   "outputs": [
    {
     "name": "stdout",
     "output_type": "stream",
     "text": [
      "Model: \"sequential_16\"\n",
      "_________________________________________________________________\n",
      "Layer (type)                 Output Shape              Param #   \n",
      "=================================================================\n",
      "resnet101v2 (Functional)     (None, 2048)              42620288  \n",
      "_________________________________________________________________\n",
      "w_hat (Sequential)           (None, 1)                 557569    \n",
      "=================================================================\n",
      "Total params: 43,177,857\n",
      "Trainable params: 43,080,193\n",
      "Non-trainable params: 97,664\n",
      "_________________________________________________________________\n",
      "Model: \"sequential_17\"\n",
      "_________________________________________________________________\n",
      "Layer (type)                 Output Shape              Param #   \n",
      "=================================================================\n",
      "resnet101v2 (Functional)     (None, 2048)              42620288  \n",
      "_________________________________________________________________\n",
      "w_new (Sequential)           (None, 1)                 557569    \n",
      "=================================================================\n",
      "Total params: 43,177,857\n",
      "Trainable params: 43,080,193\n",
      "Non-trainable params: 97,664\n",
      "_________________________________________________________________\n"
     ]
    }
   ],
   "source": [
    "small_resnet = tf.keras.applications.ResNet101V2(\n",
    "    include_top=False, weights=None, input_tensor=None,\n",
    "    input_shape=(32, 32, 1), pooling='max', classes=1,\n",
    "    classifier_activation='sigmoid')\n",
    "\n",
    "top2 = keras.models.Sequential([\n",
    "    keras.layers.Dense(256, activation='tanh', kernel_initializer=keras.initializers.RandomUniform()),\n",
    "    keras.layers.Dense(128, activation='tanh', kernel_initializer=keras.initializers.RandomUniform()),\n",
    "    keras.layers.Dense(1, activation='sigmoid', kernel_initializer=keras.initializers.RandomUniform())\n",
    "], name='w_new')\n",
    "\n",
    "top1 = keras.models.Sequential([\n",
    "    keras.layers.Dense(256, activation='tanh', kernel_initializer=keras.initializers.RandomUniform()),\n",
    "    keras.layers.Dense(128, activation='tanh', kernel_initializer=keras.initializers.RandomUniform()),\n",
    "    keras.layers.Dense(1, activation='sigmoid', kernel_initializer=keras.initializers.RandomUniform())\n",
    "], name='w_hat')\n",
    "\n",
    "\n",
    "def schedule(epoch, lr):\n",
    "    return lr / 1.5\n",
    "lr_scheduler = tf.keras.callbacks.LearningRateScheduler(schedule, verbose=1)\n",
    "\n",
    "fhat_model = keras.Sequential()\n",
    "fhat_model.add(small_resnet)\n",
    "fhat_model.add(top1)\n",
    "fhat_model.compile(optimizer=keras.optimizers.Adam(learning_rate=0.05),\n",
    "                   loss=keras.losses.BinaryCrossentropy(),\n",
    "                   metrics=[keras.metrics.MeanSquaredError(), \n",
    "                            keras.metrics.BinaryAccuracy()])\n",
    "fhat_model.summary()\n",
    "\n",
    "ftilde_model = keras.Sequential()\n",
    "ftilde_model.add(small_resnet)\n",
    "ftilde_model.add(top2)\n",
    "ftilde_model.compile(optimizer=keras.optimizers.Adam(learning_rate=0.001),\n",
    "                     loss=keras.losses.BinaryCrossentropy(),\n",
    "                     metrics=[keras.metrics.MeanSquaredError(), \n",
    "                              keras.metrics.BinaryAccuracy()])\n",
    "ftilde_model.summary()"
   ]
  },
  {
   "cell_type": "code",
   "execution_count": 80,
   "id": "14e1f43e",
   "metadata": {
    "scrolled": false
   },
   "outputs": [
    {
     "name": "stdout",
     "output_type": "stream",
     "text": [
      "Epoch 1/50\n",
      "\n",
      "Epoch 00001: LearningRateScheduler reducing learning rate to 0.033333333830038704.\n",
      "215/215 [==============================] - 237s 1s/step - loss: 0.8106 - mean_squared_error: 0.2872 - binary_accuracy: 0.4984 - val_loss: 0.6935 - val_mean_squared_error: 0.2502 - val_binary_accuracy: 0.5197\n",
      "Epoch 2/50\n",
      "\n",
      "Epoch 00002: LearningRateScheduler reducing learning rate to 0.022222223381201427.\n",
      "215/215 [==============================] - 226s 1s/step - loss: 0.6993 - mean_squared_error: 0.2530 - binary_accuracy: 0.5019 - val_loss: 0.6942 - val_mean_squared_error: 0.2505 - val_binary_accuracy: 0.5197\n",
      "Epoch 3/50\n",
      "\n",
      "Epoch 00003: LearningRateScheduler reducing learning rate to 0.014814815173546473.\n",
      "215/215 [==============================] - 227s 1s/step - loss: 0.6982 - mean_squared_error: 0.2525 - binary_accuracy: 0.5038 - val_loss: 0.6943 - val_mean_squared_error: 0.2506 - val_binary_accuracy: 0.4803\n",
      "Epoch 4/50\n",
      "\n",
      "Epoch 00004: LearningRateScheduler reducing learning rate to 0.009876543655991554.\n",
      "215/215 [==============================] - 225s 1s/step - loss: 0.6958 - mean_squared_error: 0.2513 - binary_accuracy: 0.5026 - val_loss: 0.6925 - val_mean_squared_error: 0.2497 - val_binary_accuracy: 0.5197\n",
      "Epoch 5/50\n",
      "\n",
      "Epoch 00005: LearningRateScheduler reducing learning rate to 0.0065843624373277026.\n",
      "215/215 [==============================] - 227s 1s/step - loss: 0.6951 - mean_squared_error: 0.2510 - binary_accuracy: 0.5066 - val_loss: 0.6979 - val_mean_squared_error: 0.2524 - val_binary_accuracy: 0.4803\n",
      "Epoch 6/50\n",
      "\n",
      "Epoch 00006: LearningRateScheduler reducing learning rate to 0.004389575061698754.\n",
      "215/215 [==============================] - 224s 1s/step - loss: 0.6946 - mean_squared_error: 0.2507 - binary_accuracy: 0.5050 - val_loss: 0.6924 - val_mean_squared_error: 0.2496 - val_binary_accuracy: 0.5197\n",
      "Epoch 7/50\n",
      "\n",
      "Epoch 00007: LearningRateScheduler reducing learning rate to 0.0029263834779461226.\n",
      "215/215 [==============================] - 223s 1s/step - loss: 0.6946 - mean_squared_error: 0.2507 - binary_accuracy: 0.5027 - val_loss: 0.6955 - val_mean_squared_error: 0.2512 - val_binary_accuracy: 0.4803\n",
      "Epoch 8/50\n",
      "\n",
      "Epoch 00008: LearningRateScheduler reducing learning rate to 0.0019509222668906052.\n",
      "215/215 [==============================] - 225s 1s/step - loss: 0.6940 - mean_squared_error: 0.2504 - binary_accuracy: 0.5029 - val_loss: 0.6925 - val_mean_squared_error: 0.2497 - val_binary_accuracy: 0.5197\n",
      "Epoch 9/50\n",
      "\n",
      "Epoch 00009: LearningRateScheduler reducing learning rate to 0.0013006148704638083.\n",
      "215/215 [==============================] - 224s 1s/step - loss: 0.6936 - mean_squared_error: 0.2502 - binary_accuracy: 0.5088 - val_loss: 0.6939 - val_mean_squared_error: 0.2504 - val_binary_accuracy: 0.4803\n",
      "Epoch 10/50\n",
      "\n",
      "Epoch 00010: LearningRateScheduler reducing learning rate to 0.0008670766061792771.\n",
      "215/215 [==============================] - 224s 1s/step - loss: 0.6935 - mean_squared_error: 0.2502 - binary_accuracy: 0.5038 - val_loss: 0.6924 - val_mean_squared_error: 0.2496 - val_binary_accuracy: 0.5197\n",
      "Epoch 11/50\n",
      "\n",
      "Epoch 00011: LearningRateScheduler reducing learning rate to 0.0005780510837212205.\n",
      "215/215 [==============================] - 224s 1s/step - loss: 0.6931 - mean_squared_error: 0.2500 - binary_accuracy: 0.5081 - val_loss: 0.6936 - val_mean_squared_error: 0.2502 - val_binary_accuracy: 0.4803\n",
      "Epoch 12/50\n",
      "\n",
      "Epoch 00012: LearningRateScheduler reducing learning rate to 0.0003853673891474803.\n",
      "215/215 [==============================] - 223s 1s/step - loss: 0.6930 - mean_squared_error: 0.2499 - binary_accuracy: 0.5126 - val_loss: 0.6925 - val_mean_squared_error: 0.2497 - val_binary_accuracy: 0.5197\n",
      "Epoch 13/50\n",
      "\n",
      "Epoch 00013: LearningRateScheduler reducing learning rate to 0.0002569115992325048.\n",
      "215/215 [==============================] - 562s 3s/step - loss: 0.6929 - mean_squared_error: 0.2499 - binary_accuracy: 0.5130 - val_loss: 0.6927 - val_mean_squared_error: 0.2498 - val_binary_accuracy: 0.5197\n",
      "Epoch 14/50\n",
      "\n",
      "Epoch 00014: LearningRateScheduler reducing learning rate to 0.00017127439302081862.\n",
      "215/215 [==============================] - 230s 1s/step - loss: 0.6929 - mean_squared_error: 0.2499 - binary_accuracy: 0.5125 - val_loss: 0.6926 - val_mean_squared_error: 0.2497 - val_binary_accuracy: 0.5197\n",
      "Epoch 15/50\n",
      "\n",
      "Epoch 00015: LearningRateScheduler reducing learning rate to 0.00011418293191430469.\n",
      "215/215 [==============================] - 228s 1s/step - loss: 0.6929 - mean_squared_error: 0.2499 - binary_accuracy: 0.5123 - val_loss: 0.6924 - val_mean_squared_error: 0.2496 - val_binary_accuracy: 0.5197\n",
      "Epoch 16/50\n",
      "\n",
      "Epoch 00016: LearningRateScheduler reducing learning rate to 7.612195622641593e-05.\n",
      "215/215 [==============================] - 230s 1s/step - loss: 0.6929 - mean_squared_error: 0.2499 - binary_accuracy: 0.5124 - val_loss: 0.6924 - val_mean_squared_error: 0.2496 - val_binary_accuracy: 0.5197\n",
      "Epoch 17/50\n",
      "\n",
      "Epoch 00017: LearningRateScheduler reducing learning rate to 5.074797081761062e-05.\n",
      "215/215 [==============================] - 232s 1s/step - loss: 0.6930 - mean_squared_error: 0.2499 - binary_accuracy: 0.5105 - val_loss: 0.6927 - val_mean_squared_error: 0.2498 - val_binary_accuracy: 0.5197\n",
      "Epoch 18/50\n",
      "\n",
      "Epoch 00018: LearningRateScheduler reducing learning rate to 3.383198054507375e-05.\n",
      "215/215 [==============================] - 229s 1s/step - loss: 0.6929 - mean_squared_error: 0.2499 - binary_accuracy: 0.5106 - val_loss: 0.6926 - val_mean_squared_error: 0.2497 - val_binary_accuracy: 0.5197\n",
      "Epoch 19/50\n",
      "\n",
      "Epoch 00019: LearningRateScheduler reducing learning rate to 2.2554653696715832e-05.\n",
      "215/215 [==============================] - 230s 1s/step - loss: 0.6930 - mean_squared_error: 0.2499 - binary_accuracy: 0.5099 - val_loss: 0.6926 - val_mean_squared_error: 0.2497 - val_binary_accuracy: 0.5197\n",
      "Epoch 20/50\n",
      "\n",
      "Epoch 00020: LearningRateScheduler reducing learning rate to 1.5036435797810555e-05.\n",
      "215/215 [==============================] - 228s 1s/step - loss: 0.6930 - mean_squared_error: 0.2499 - binary_accuracy: 0.5085 - val_loss: 0.6925 - val_mean_squared_error: 0.2497 - val_binary_accuracy: 0.5197\n",
      "Epoch 21/50\n",
      "\n",
      "Epoch 00021: LearningRateScheduler reducing learning rate to 1.0024290531873703e-05.\n",
      "215/215 [==============================] - 227s 1s/step - loss: 0.6928 - mean_squared_error: 0.2498 - binary_accuracy: 0.5136 - val_loss: 0.6926 - val_mean_squared_error: 0.2497 - val_binary_accuracy: 0.5197\n",
      "Epoch 22/50\n",
      "\n",
      "Epoch 00022: LearningRateScheduler reducing learning rate to 6.682860354582469e-06.\n",
      "215/215 [==============================] - 222s 1s/step - loss: 0.6929 - mean_squared_error: 0.2499 - binary_accuracy: 0.5108 - val_loss: 0.6926 - val_mean_squared_error: 0.2497 - val_binary_accuracy: 0.5197\n",
      "Epoch 23/50\n",
      "\n",
      "Epoch 00023: LearningRateScheduler reducing learning rate to 4.455240135333345e-06.\n",
      "215/215 [==============================] - 3182s 15s/step - loss: 0.6928 - mean_squared_error: 0.2498 - binary_accuracy: 0.5152 - val_loss: 0.6926 - val_mean_squared_error: 0.2497 - val_binary_accuracy: 0.5197\n",
      "Epoch 24/50\n",
      "\n",
      "Epoch 00024: LearningRateScheduler reducing learning rate to 2.970160191277197e-06.\n",
      "215/215 [==============================] - 225s 1s/step - loss: 0.6931 - mean_squared_error: 0.2500 - binary_accuracy: 0.5067 - val_loss: 0.6925 - val_mean_squared_error: 0.2497 - val_binary_accuracy: 0.5197\n",
      "Epoch 25/50\n",
      "\n",
      "Epoch 00025: LearningRateScheduler reducing learning rate to 1.9801068447122816e-06.\n",
      "215/215 [==============================] - 229s 1s/step - loss: 0.6930 - mean_squared_error: 0.2499 - binary_accuracy: 0.5089 - val_loss: 0.6925 - val_mean_squared_error: 0.2497 - val_binary_accuracy: 0.5197\n",
      "Epoch 26/50\n",
      "\n",
      "Epoch 00026: LearningRateScheduler reducing learning rate to 1.3200712298081878e-06.\n",
      "215/215 [==============================] - 231s 1s/step - loss: 0.6930 - mean_squared_error: 0.2499 - binary_accuracy: 0.5083 - val_loss: 0.6925 - val_mean_squared_error: 0.2497 - val_binary_accuracy: 0.5197\n",
      "Epoch 27/50\n",
      "\n",
      "Epoch 00027: LearningRateScheduler reducing learning rate to 8.800474612750501e-07.\n",
      "215/215 [==============================] - 230s 1s/step - loss: 0.6929 - mean_squared_error: 0.2499 - binary_accuracy: 0.5109 - val_loss: 0.6925 - val_mean_squared_error: 0.2497 - val_binary_accuracy: 0.5197\n"
     ]
    },
    {
     "name": "stdout",
     "output_type": "stream",
     "text": [
      "Epoch 28/50\n",
      "\n",
      "Epoch 00028: LearningRateScheduler reducing learning rate to 5.866983201485709e-07.\n",
      "215/215 [==============================] - 226s 1s/step - loss: 0.6929 - mean_squared_error: 0.2499 - binary_accuracy: 0.5109 - val_loss: 0.6925 - val_mean_squared_error: 0.2497 - val_binary_accuracy: 0.5197\n",
      "Epoch 29/50\n",
      "\n",
      "Epoch 00029: LearningRateScheduler reducing learning rate to 3.9113221343238064e-07.\n",
      "124/215 [================>.............] - ETA: 1:38 - loss: 0.6931 - mean_squared_error: 0.2500 - binary_accuracy: 0.5060"
     ]
    },
    {
     "ename": "KeyboardInterrupt",
     "evalue": "",
     "output_type": "error",
     "traceback": [
      "\u001b[0;31m---------------------------------------------------------------------------\u001b[0m",
      "\u001b[0;31mKeyboardInterrupt\u001b[0m                         Traceback (most recent call last)",
      "\u001b[0;32m<ipython-input-80-ce241dfe4ad0>\u001b[0m in \u001b[0;36m<module>\u001b[0;34m\u001b[0m\n\u001b[0;32m----> 1\u001b[0;31m hist = fhat_model.fit(x=X_train, y=y_train, epochs=50, batch_size=256, \n\u001b[0m\u001b[1;32m      2\u001b[0m                       validation_data=(X_valid, y_valid), callbacks=[lr_scheduler])\n",
      "\u001b[0;32m~/miniforge3/envs/tf/lib/python3.8/site-packages/tensorflow/python/keras/engine/training.py\u001b[0m in \u001b[0;36mfit\u001b[0;34m(self, x, y, batch_size, epochs, verbose, callbacks, validation_split, validation_data, shuffle, class_weight, sample_weight, initial_epoch, steps_per_epoch, validation_steps, validation_batch_size, validation_freq, max_queue_size, workers, use_multiprocessing)\u001b[0m\n\u001b[1;32m   1098\u001b[0m                 _r=1):\n\u001b[1;32m   1099\u001b[0m               \u001b[0mcallbacks\u001b[0m\u001b[0;34m.\u001b[0m\u001b[0mon_train_batch_begin\u001b[0m\u001b[0;34m(\u001b[0m\u001b[0mstep\u001b[0m\u001b[0;34m)\u001b[0m\u001b[0;34m\u001b[0m\u001b[0;34m\u001b[0m\u001b[0m\n\u001b[0;32m-> 1100\u001b[0;31m               \u001b[0mtmp_logs\u001b[0m \u001b[0;34m=\u001b[0m \u001b[0mself\u001b[0m\u001b[0;34m.\u001b[0m\u001b[0mtrain_function\u001b[0m\u001b[0;34m(\u001b[0m\u001b[0miterator\u001b[0m\u001b[0;34m)\u001b[0m\u001b[0;34m\u001b[0m\u001b[0;34m\u001b[0m\u001b[0m\n\u001b[0m\u001b[1;32m   1101\u001b[0m               \u001b[0;32mif\u001b[0m \u001b[0mdata_handler\u001b[0m\u001b[0;34m.\u001b[0m\u001b[0mshould_sync\u001b[0m\u001b[0;34m:\u001b[0m\u001b[0;34m\u001b[0m\u001b[0;34m\u001b[0m\u001b[0m\n\u001b[1;32m   1102\u001b[0m                 \u001b[0mcontext\u001b[0m\u001b[0;34m.\u001b[0m\u001b[0masync_wait\u001b[0m\u001b[0;34m(\u001b[0m\u001b[0;34m)\u001b[0m\u001b[0;34m\u001b[0m\u001b[0;34m\u001b[0m\u001b[0m\n",
      "\u001b[0;32m~/miniforge3/envs/tf/lib/python3.8/site-packages/tensorflow/python/eager/def_function.py\u001b[0m in \u001b[0;36m__call__\u001b[0;34m(self, *args, **kwds)\u001b[0m\n\u001b[1;32m    826\u001b[0m     \u001b[0mtracing_count\u001b[0m \u001b[0;34m=\u001b[0m \u001b[0mself\u001b[0m\u001b[0;34m.\u001b[0m\u001b[0mexperimental_get_tracing_count\u001b[0m\u001b[0;34m(\u001b[0m\u001b[0;34m)\u001b[0m\u001b[0;34m\u001b[0m\u001b[0;34m\u001b[0m\u001b[0m\n\u001b[1;32m    827\u001b[0m     \u001b[0;32mwith\u001b[0m \u001b[0mtrace\u001b[0m\u001b[0;34m.\u001b[0m\u001b[0mTrace\u001b[0m\u001b[0;34m(\u001b[0m\u001b[0mself\u001b[0m\u001b[0;34m.\u001b[0m\u001b[0m_name\u001b[0m\u001b[0;34m)\u001b[0m \u001b[0;32mas\u001b[0m \u001b[0mtm\u001b[0m\u001b[0;34m:\u001b[0m\u001b[0;34m\u001b[0m\u001b[0;34m\u001b[0m\u001b[0m\n\u001b[0;32m--> 828\u001b[0;31m       \u001b[0mresult\u001b[0m \u001b[0;34m=\u001b[0m \u001b[0mself\u001b[0m\u001b[0;34m.\u001b[0m\u001b[0m_call\u001b[0m\u001b[0;34m(\u001b[0m\u001b[0;34m*\u001b[0m\u001b[0margs\u001b[0m\u001b[0;34m,\u001b[0m \u001b[0;34m**\u001b[0m\u001b[0mkwds\u001b[0m\u001b[0;34m)\u001b[0m\u001b[0;34m\u001b[0m\u001b[0;34m\u001b[0m\u001b[0m\n\u001b[0m\u001b[1;32m    829\u001b[0m       \u001b[0mcompiler\u001b[0m \u001b[0;34m=\u001b[0m \u001b[0;34m\"xla\"\u001b[0m \u001b[0;32mif\u001b[0m \u001b[0mself\u001b[0m\u001b[0;34m.\u001b[0m\u001b[0m_experimental_compile\u001b[0m \u001b[0;32melse\u001b[0m \u001b[0;34m\"nonXla\"\u001b[0m\u001b[0;34m\u001b[0m\u001b[0;34m\u001b[0m\u001b[0m\n\u001b[1;32m    830\u001b[0m       \u001b[0mnew_tracing_count\u001b[0m \u001b[0;34m=\u001b[0m \u001b[0mself\u001b[0m\u001b[0;34m.\u001b[0m\u001b[0mexperimental_get_tracing_count\u001b[0m\u001b[0;34m(\u001b[0m\u001b[0;34m)\u001b[0m\u001b[0;34m\u001b[0m\u001b[0;34m\u001b[0m\u001b[0m\n",
      "\u001b[0;32m~/miniforge3/envs/tf/lib/python3.8/site-packages/tensorflow/python/eager/def_function.py\u001b[0m in \u001b[0;36m_call\u001b[0;34m(self, *args, **kwds)\u001b[0m\n\u001b[1;32m    853\u001b[0m       \u001b[0;31m# In this case we have created variables on the first call, so we run the\u001b[0m\u001b[0;34m\u001b[0m\u001b[0;34m\u001b[0m\u001b[0;34m\u001b[0m\u001b[0m\n\u001b[1;32m    854\u001b[0m       \u001b[0;31m# defunned version which is guaranteed to never create variables.\u001b[0m\u001b[0;34m\u001b[0m\u001b[0;34m\u001b[0m\u001b[0;34m\u001b[0m\u001b[0m\n\u001b[0;32m--> 855\u001b[0;31m       \u001b[0;32mreturn\u001b[0m \u001b[0mself\u001b[0m\u001b[0;34m.\u001b[0m\u001b[0m_stateless_fn\u001b[0m\u001b[0;34m(\u001b[0m\u001b[0;34m*\u001b[0m\u001b[0margs\u001b[0m\u001b[0;34m,\u001b[0m \u001b[0;34m**\u001b[0m\u001b[0mkwds\u001b[0m\u001b[0;34m)\u001b[0m  \u001b[0;31m# pylint: disable=not-callable\u001b[0m\u001b[0;34m\u001b[0m\u001b[0;34m\u001b[0m\u001b[0m\n\u001b[0m\u001b[1;32m    856\u001b[0m     \u001b[0;32melif\u001b[0m \u001b[0mself\u001b[0m\u001b[0;34m.\u001b[0m\u001b[0m_stateful_fn\u001b[0m \u001b[0;32mis\u001b[0m \u001b[0;32mnot\u001b[0m \u001b[0;32mNone\u001b[0m\u001b[0;34m:\u001b[0m\u001b[0;34m\u001b[0m\u001b[0;34m\u001b[0m\u001b[0m\n\u001b[1;32m    857\u001b[0m       \u001b[0;31m# Release the lock early so that multiple threads can perform the call\u001b[0m\u001b[0;34m\u001b[0m\u001b[0;34m\u001b[0m\u001b[0;34m\u001b[0m\u001b[0m\n",
      "\u001b[0;32m~/miniforge3/envs/tf/lib/python3.8/site-packages/tensorflow/python/eager/function.py\u001b[0m in \u001b[0;36m__call__\u001b[0;34m(self, *args, **kwargs)\u001b[0m\n\u001b[1;32m   2940\u001b[0m       (graph_function,\n\u001b[1;32m   2941\u001b[0m        filtered_flat_args) = self._maybe_define_function(args, kwargs)\n\u001b[0;32m-> 2942\u001b[0;31m     return graph_function._call_flat(\n\u001b[0m\u001b[1;32m   2943\u001b[0m         filtered_flat_args, captured_inputs=graph_function.captured_inputs)  # pylint: disable=protected-access\n\u001b[1;32m   2944\u001b[0m \u001b[0;34m\u001b[0m\u001b[0m\n",
      "\u001b[0;32m~/miniforge3/envs/tf/lib/python3.8/site-packages/tensorflow/python/eager/function.py\u001b[0m in \u001b[0;36m_call_flat\u001b[0;34m(self, args, captured_inputs, cancellation_manager)\u001b[0m\n\u001b[1;32m   1916\u001b[0m         and executing_eagerly):\n\u001b[1;32m   1917\u001b[0m       \u001b[0;31m# No tape is watching; skip to running the function.\u001b[0m\u001b[0;34m\u001b[0m\u001b[0;34m\u001b[0m\u001b[0;34m\u001b[0m\u001b[0m\n\u001b[0;32m-> 1918\u001b[0;31m       return self._build_call_outputs(self._inference_function.call(\n\u001b[0m\u001b[1;32m   1919\u001b[0m           ctx, args, cancellation_manager=cancellation_manager))\n\u001b[1;32m   1920\u001b[0m     forward_backward = self._select_forward_and_backward_functions(\n",
      "\u001b[0;32m~/miniforge3/envs/tf/lib/python3.8/site-packages/tensorflow/python/eager/function.py\u001b[0m in \u001b[0;36mcall\u001b[0;34m(self, ctx, args, cancellation_manager)\u001b[0m\n\u001b[1;32m    553\u001b[0m       \u001b[0;32mwith\u001b[0m \u001b[0m_InterpolateFunctionError\u001b[0m\u001b[0;34m(\u001b[0m\u001b[0mself\u001b[0m\u001b[0;34m)\u001b[0m\u001b[0;34m:\u001b[0m\u001b[0;34m\u001b[0m\u001b[0;34m\u001b[0m\u001b[0m\n\u001b[1;32m    554\u001b[0m         \u001b[0;32mif\u001b[0m \u001b[0mcancellation_manager\u001b[0m \u001b[0;32mis\u001b[0m \u001b[0;32mNone\u001b[0m\u001b[0;34m:\u001b[0m\u001b[0;34m\u001b[0m\u001b[0;34m\u001b[0m\u001b[0m\n\u001b[0;32m--> 555\u001b[0;31m           outputs = execute.execute(\n\u001b[0m\u001b[1;32m    556\u001b[0m               \u001b[0mstr\u001b[0m\u001b[0;34m(\u001b[0m\u001b[0mself\u001b[0m\u001b[0;34m.\u001b[0m\u001b[0msignature\u001b[0m\u001b[0;34m.\u001b[0m\u001b[0mname\u001b[0m\u001b[0;34m)\u001b[0m\u001b[0;34m,\u001b[0m\u001b[0;34m\u001b[0m\u001b[0;34m\u001b[0m\u001b[0m\n\u001b[1;32m    557\u001b[0m               \u001b[0mnum_outputs\u001b[0m\u001b[0;34m=\u001b[0m\u001b[0mself\u001b[0m\u001b[0;34m.\u001b[0m\u001b[0m_num_outputs\u001b[0m\u001b[0;34m,\u001b[0m\u001b[0;34m\u001b[0m\u001b[0;34m\u001b[0m\u001b[0m\n",
      "\u001b[0;32m~/miniforge3/envs/tf/lib/python3.8/site-packages/tensorflow/python/eager/execute.py\u001b[0m in \u001b[0;36mquick_execute\u001b[0;34m(op_name, num_outputs, inputs, attrs, ctx, name)\u001b[0m\n\u001b[1;32m     57\u001b[0m   \u001b[0;32mtry\u001b[0m\u001b[0;34m:\u001b[0m\u001b[0;34m\u001b[0m\u001b[0;34m\u001b[0m\u001b[0m\n\u001b[1;32m     58\u001b[0m     \u001b[0mctx\u001b[0m\u001b[0;34m.\u001b[0m\u001b[0mensure_initialized\u001b[0m\u001b[0;34m(\u001b[0m\u001b[0;34m)\u001b[0m\u001b[0;34m\u001b[0m\u001b[0;34m\u001b[0m\u001b[0m\n\u001b[0;32m---> 59\u001b[0;31m     tensors = pywrap_tfe.TFE_Py_Execute(ctx._handle, device_name, op_name,\n\u001b[0m\u001b[1;32m     60\u001b[0m                                         inputs, attrs, num_outputs)\n\u001b[1;32m     61\u001b[0m   \u001b[0;32mexcept\u001b[0m \u001b[0mcore\u001b[0m\u001b[0;34m.\u001b[0m\u001b[0m_NotOkStatusException\u001b[0m \u001b[0;32mas\u001b[0m \u001b[0me\u001b[0m\u001b[0;34m:\u001b[0m\u001b[0;34m\u001b[0m\u001b[0;34m\u001b[0m\u001b[0m\n",
      "\u001b[0;31mKeyboardInterrupt\u001b[0m: "
     ]
    }
   ],
   "source": [
    "hist = fhat_model.fit(x=X_train, y=y_train, epochs=50, batch_size=256, \n",
    "                      validation_data=(X_valid, y_valid), callbacks=[lr_scheduler])"
   ]
  },
  {
   "cell_type": "code",
   "execution_count": 81,
   "id": "ffcdf020",
   "metadata": {},
   "outputs": [
    {
     "name": "stdout",
     "output_type": "stream",
     "text": [
      "Model: \"sequential_17\"\n",
      "_________________________________________________________________\n",
      "Layer (type)                 Output Shape              Param #   \n",
      "=================================================================\n",
      "resnet101v2 (Functional)     (None, 2048)              42620288  \n",
      "_________________________________________________________________\n",
      "w_new (Sequential)           (None, 1)                 557569    \n",
      "=================================================================\n",
      "Total params: 43,177,857\n",
      "Trainable params: 557,569\n",
      "Non-trainable params: 42,620,288\n",
      "_________________________________________________________________\n"
     ]
    }
   ],
   "source": [
    "small_resnet.trainable = False\n",
    "ftilde_model.summary() "
   ]
  },
  {
   "cell_type": "code",
   "execution_count": 82,
   "id": "8acb0c5e",
   "metadata": {},
   "outputs": [
    {
     "name": "stdout",
     "output_type": "stream",
     "text": [
      "Epoch 1/50\n",
      "\n",
      "Epoch 00001: LearningRateScheduler reducing learning rate to 0.0006666666983316342.\n",
      "215/215 [==============================] - 236s 1s/step - loss: 0.6936 - mean_squared_error: 0.0735 - binary_accuracy: 0.0000e+00 - val_loss: 0.6926 - val_mean_squared_error: 0.0731 - val_binary_accuracy: 0.0000e+00\n",
      "Epoch 2/50\n",
      "\n",
      "Epoch 00002: LearningRateScheduler reducing learning rate to 0.00044444447848945856.\n",
      "215/215 [==============================] - 222s 1s/step - loss: 0.6930 - mean_squared_error: 0.0723 - binary_accuracy: 0.0000e+00 - val_loss: 0.6928 - val_mean_squared_error: 0.0732 - val_binary_accuracy: 0.0000e+00\n",
      "Epoch 3/50\n",
      "\n",
      "Epoch 00003: LearningRateScheduler reducing learning rate to 0.0002962963189929724.\n",
      "215/215 [==============================] - 225s 1s/step - loss: 0.6927 - mean_squared_error: 0.0724 - binary_accuracy: 0.0000e+00 - val_loss: 0.6930 - val_mean_squared_error: 0.0733 - val_binary_accuracy: 0.0000e+00\n",
      "Epoch 4/50\n",
      "\n",
      "Epoch 00004: LearningRateScheduler reducing learning rate to 0.00019753087932864824.\n",
      "215/215 [==============================] - 223s 1s/step - loss: 0.6920 - mean_squared_error: 0.0716 - binary_accuracy: 0.0000e+00 - val_loss: 0.6919 - val_mean_squared_error: 0.0727 - val_binary_accuracy: 0.0000e+00\n",
      "Epoch 5/50\n",
      "\n",
      "Epoch 00005: LearningRateScheduler reducing learning rate to 0.00013168725611952445.\n",
      "215/215 [==============================] - 220s 1s/step - loss: 0.6912 - mean_squared_error: 0.0717 - binary_accuracy: 0.0000e+00 - val_loss: 0.6914 - val_mean_squared_error: 0.0725 - val_binary_accuracy: 0.0000e+00\n",
      "Epoch 6/50\n",
      "\n",
      "Epoch 00006: LearningRateScheduler reducing learning rate to 8.779150084592402e-05.\n",
      "215/215 [==============================] - 222s 1s/step - loss: 0.6900 - mean_squared_error: 0.0711 - binary_accuracy: 0.0000e+00 - val_loss: 0.6912 - val_mean_squared_error: 0.0724 - val_binary_accuracy: 0.0000e+00\n",
      "Epoch 7/50\n",
      "\n",
      "Epoch 00007: LearningRateScheduler reducing learning rate to 5.852766723061601e-05.\n",
      "215/215 [==============================] - 222s 1s/step - loss: 0.6891 - mean_squared_error: 0.0708 - binary_accuracy: 0.0000e+00 - val_loss: 0.6905 - val_mean_squared_error: 0.0720 - val_binary_accuracy: 0.0000e+00\n",
      "Epoch 8/50\n",
      "\n",
      "Epoch 00008: LearningRateScheduler reducing learning rate to 3.901844562885041e-05.\n",
      "215/215 [==============================] - 237s 1s/step - loss: 0.6887 - mean_squared_error: 0.0698 - binary_accuracy: 0.0000e+00 - val_loss: 0.6925 - val_mean_squared_error: 0.0730 - val_binary_accuracy: 0.0000e+00\n",
      "Epoch 9/50\n",
      "\n",
      "Epoch 00009: LearningRateScheduler reducing learning rate to 2.601229789434001e-05.\n",
      "215/215 [==============================] - 229s 1s/step - loss: 0.6886 - mean_squared_error: 0.0705 - binary_accuracy: 0.0000e+00 - val_loss: 0.6906 - val_mean_squared_error: 0.0721 - val_binary_accuracy: 0.0000e+00\n",
      "Epoch 10/50\n",
      "\n",
      "Epoch 00010: LearningRateScheduler reducing learning rate to 1.7341531929560006e-05.\n",
      "215/215 [==============================] - 247s 1s/step - loss: 0.6887 - mean_squared_error: 0.0704 - binary_accuracy: 0.0000e+00 - val_loss: 0.6904 - val_mean_squared_error: 0.0720 - val_binary_accuracy: 0.0000e+00\n",
      "Epoch 11/50\n",
      "\n",
      "Epoch 00011: LearningRateScheduler reducing learning rate to 1.1561021286373338e-05.\n",
      "215/215 [==============================] - 5094s 24s/step - loss: 0.6881 - mean_squared_error: 0.0696 - binary_accuracy: 0.0000e+00 - val_loss: 0.6903 - val_mean_squared_error: 0.0719 - val_binary_accuracy: 0.0000e+00\n",
      "Epoch 12/50\n",
      "\n",
      "Epoch 00012: LearningRateScheduler reducing learning rate to 7.707347322138958e-06.\n",
      "215/215 [==============================] - 10078s 47s/step - loss: 0.6878 - mean_squared_error: 0.0701 - binary_accuracy: 0.0000e+00 - val_loss: 0.6902 - val_mean_squared_error: 0.0719 - val_binary_accuracy: 0.0000e+00\n",
      "Epoch 13/50\n",
      "\n",
      "Epoch 00013: LearningRateScheduler reducing learning rate to 5.138231548092638e-06.\n",
      "215/215 [==============================] - 29863s 135s/step - loss: 0.6880 - mean_squared_error: 0.0700 - binary_accuracy: 0.0000e+00 - val_loss: 0.6904 - val_mean_squared_error: 0.0719 - val_binary_accuracy: 0.0000e+00\n",
      "Epoch 14/50\n",
      "\n",
      "Epoch 00014: LearningRateScheduler reducing learning rate to 3.4254877997833924e-06.\n",
      "215/215 [==============================] - 229s 1s/step - loss: 0.6875 - mean_squared_error: 0.0696 - binary_accuracy: 0.0000e+00 - val_loss: 0.6901 - val_mean_squared_error: 0.0718 - val_binary_accuracy: 0.0000e+00\n",
      "Epoch 15/50\n",
      "\n",
      "Epoch 00015: LearningRateScheduler reducing learning rate to 2.2836585837164116e-06.\n",
      "215/215 [==============================] - 231s 1s/step - loss: 0.6875 - mean_squared_error: 0.0693 - binary_accuracy: 0.0000e+00 - val_loss: 0.6902 - val_mean_squared_error: 0.0719 - val_binary_accuracy: 0.0000e+00\n",
      "Epoch 16/50\n",
      "\n",
      "Epoch 00016: LearningRateScheduler reducing learning rate to 1.5224391063384246e-06.\n",
      "215/215 [==============================] - 226s 1s/step - loss: 0.6874 - mean_squared_error: 0.0692 - binary_accuracy: 0.0000e+00 - val_loss: 0.6902 - val_mean_squared_error: 0.0719 - val_binary_accuracy: 0.0000e+00\n",
      "Epoch 17/50\n",
      "\n",
      "Epoch 00017: LearningRateScheduler reducing learning rate to 1.0149594042256165e-06.\n",
      "215/215 [==============================] - 223s 1s/step - loss: 0.6878 - mean_squared_error: 0.0696 - binary_accuracy: 0.0000e+00 - val_loss: 0.6902 - val_mean_squared_error: 0.0719 - val_binary_accuracy: 0.0000e+00\n",
      "Epoch 18/50\n",
      "\n",
      "Epoch 00018: LearningRateScheduler reducing learning rate to 6.766395775533359e-07.\n",
      "215/215 [==============================] - 227s 1s/step - loss: 0.6877 - mean_squared_error: 0.0701 - binary_accuracy: 0.0000e+00 - val_loss: 0.6902 - val_mean_squared_error: 0.0719 - val_binary_accuracy: 0.0000e+00\n",
      "Epoch 19/50\n",
      "\n",
      "Epoch 00019: LearningRateScheduler reducing learning rate to 4.510930390703531e-07.\n",
      "215/215 [==============================] - 225s 1s/step - loss: 0.6874 - mean_squared_error: 0.0702 - binary_accuracy: 0.0000e+00 - val_loss: 0.6902 - val_mean_squared_error: 0.0719 - val_binary_accuracy: 0.0000e+00\n",
      "Epoch 20/50\n",
      "\n",
      "Epoch 00020: LearningRateScheduler reducing learning rate to 3.007286863976333e-07.\n",
      "215/215 [==============================] - 223s 1s/step - loss: 0.6874 - mean_squared_error: 0.0692 - binary_accuracy: 0.0000e+00 - val_loss: 0.6903 - val_mean_squared_error: 0.0719 - val_binary_accuracy: 0.0000e+00\n",
      "Epoch 21/50\n",
      "\n",
      "Epoch 00021: LearningRateScheduler reducing learning rate to 2.0048579093175553e-07.\n",
      "215/215 [==============================] - 222s 1s/step - loss: 0.6875 - mean_squared_error: 0.0695 - binary_accuracy: 0.0000e+00 - val_loss: 0.6903 - val_mean_squared_error: 0.0719 - val_binary_accuracy: 0.0000e+00\n",
      "Epoch 22/50\n",
      "\n",
      "Epoch 00022: LearningRateScheduler reducing learning rate to 1.3365719079653596e-07.\n",
      "215/215 [==============================] - 220s 1s/step - loss: 0.6878 - mean_squared_error: 0.0698 - binary_accuracy: 0.0000e+00 - val_loss: 0.6903 - val_mean_squared_error: 0.0719 - val_binary_accuracy: 0.0000e+00\n",
      "Epoch 23/50\n",
      "\n",
      "Epoch 00023: LearningRateScheduler reducing learning rate to 8.910479702232503e-08.\n",
      "215/215 [==============================] - 218s 1s/step - loss: 0.6878 - mean_squared_error: 0.0697 - binary_accuracy: 0.0000e+00 - val_loss: 0.6902 - val_mean_squared_error: 0.0719 - val_binary_accuracy: 0.0000e+00\n",
      "Epoch 24/50\n",
      "\n",
      "Epoch 00024: LearningRateScheduler reducing learning rate to 5.9403196435899495e-08.\n",
      "215/215 [==============================] - 248s 1s/step - loss: 0.6881 - mean_squared_error: 0.0698 - binary_accuracy: 0.0000e+00 - val_loss: 0.6902 - val_mean_squared_error: 0.0719 - val_binary_accuracy: 0.0000e+00\n",
      "Epoch 25/50\n",
      "\n",
      "Epoch 00025: LearningRateScheduler reducing learning rate to 3.96021301677744e-08.\n",
      "215/215 [==============================] - 225s 1s/step - loss: 0.6877 - mean_squared_error: 0.0699 - binary_accuracy: 0.0000e+00 - val_loss: 0.6900 - val_mean_squared_error: 0.0718 - val_binary_accuracy: 0.0000e+00\n",
      "Epoch 26/50\n",
      "\n",
      "Epoch 00026: LearningRateScheduler reducing learning rate to 2.6401420901341528e-08.\n",
      "215/215 [==============================] - 228s 1s/step - loss: 0.6872 - mean_squared_error: 0.0697 - binary_accuracy: 0.0000e+00 - val_loss: 0.6903 - val_mean_squared_error: 0.0719 - val_binary_accuracy: 0.0000e+00\n",
      "Epoch 27/50\n",
      "\n",
      "Epoch 00027: LearningRateScheduler reducing learning rate to 1.7600947662306982e-08.\n"
     ]
    },
    {
     "name": "stdout",
     "output_type": "stream",
     "text": [
      "215/215 [==============================] - 218s 1s/step - loss: 0.6876 - mean_squared_error: 0.0700 - binary_accuracy: 0.0000e+00 - val_loss: 0.6902 - val_mean_squared_error: 0.0719 - val_binary_accuracy: 0.0000e+00\n",
      "Epoch 28/50\n",
      "\n",
      "Epoch 00028: LearningRateScheduler reducing learning rate to 1.173396550295062e-08.\n",
      "215/215 [==============================] - 221s 1s/step - loss: 0.6877 - mean_squared_error: 0.0697 - binary_accuracy: 0.0000e+00 - val_loss: 0.6902 - val_mean_squared_error: 0.0719 - val_binary_accuracy: 0.0000e+00\n",
      "Epoch 29/50\n",
      "\n",
      "Epoch 00029: LearningRateScheduler reducing learning rate to 7.822643866006729e-09.\n",
      "215/215 [==============================] - 243s 1s/step - loss: 0.6877 - mean_squared_error: 0.0696 - binary_accuracy: 0.0000e+00 - val_loss: 0.6904 - val_mean_squared_error: 0.0720 - val_binary_accuracy: 0.0000e+00\n",
      "Epoch 30/50\n",
      "\n",
      "Epoch 00030: LearningRateScheduler reducing learning rate to 5.2150959106711525e-09.\n",
      "215/215 [==============================] - 222s 1s/step - loss: 0.6873 - mean_squared_error: 0.0695 - binary_accuracy: 0.0000e+00 - val_loss: 0.6902 - val_mean_squared_error: 0.0719 - val_binary_accuracy: 0.0000e+00\n",
      "Epoch 31/50\n",
      "\n",
      "Epoch 00031: LearningRateScheduler reducing learning rate to 3.4767306071141015e-09.\n",
      "215/215 [==============================] - 227s 1s/step - loss: 0.6875 - mean_squared_error: 0.0695 - binary_accuracy: 0.0000e+00 - val_loss: 0.6903 - val_mean_squared_error: 0.0719 - val_binary_accuracy: 0.0000e+00\n",
      "Epoch 32/50\n",
      "\n",
      "Epoch 00032: LearningRateScheduler reducing learning rate to 2.31782045408598e-09.\n",
      "215/215 [==============================] - 227s 1s/step - loss: 0.6874 - mean_squared_error: 0.0698 - binary_accuracy: 0.0000e+00 - val_loss: 0.6902 - val_mean_squared_error: 0.0719 - val_binary_accuracy: 0.0000e+00\n",
      "Epoch 33/50\n",
      "\n",
      "Epoch 00033: LearningRateScheduler reducing learning rate to 1.5452135867140744e-09.\n",
      "215/215 [==============================] - 226s 1s/step - loss: 0.6877 - mean_squared_error: 0.0695 - binary_accuracy: 0.0000e+00 - val_loss: 0.6903 - val_mean_squared_error: 0.0719 - val_binary_accuracy: 0.0000e+00\n",
      "Epoch 34/50\n",
      "\n",
      "Epoch 00034: LearningRateScheduler reducing learning rate to 1.030142415814339e-09.\n",
      "215/215 [==============================] - 221s 1s/step - loss: 0.6879 - mean_squared_error: 0.0697 - binary_accuracy: 0.0000e+00 - val_loss: 0.6902 - val_mean_squared_error: 0.0719 - val_binary_accuracy: 0.0000e+00\n",
      "Epoch 35/50\n",
      "\n",
      "Epoch 00035: LearningRateScheduler reducing learning rate to 6.867616105428928e-10.\n",
      "215/215 [==============================] - 218s 1s/step - loss: 0.6874 - mean_squared_error: 0.0694 - binary_accuracy: 0.0000e+00 - val_loss: 0.6901 - val_mean_squared_error: 0.0718 - val_binary_accuracy: 0.0000e+00\n",
      "Epoch 36/50\n",
      "\n",
      "Epoch 00036: LearningRateScheduler reducing learning rate to 4.578410613594504e-10.\n",
      "215/215 [==============================] - 217s 1s/step - loss: 0.6871 - mean_squared_error: 0.0696 - binary_accuracy: 0.0000e+00 - val_loss: 0.6902 - val_mean_squared_error: 0.0719 - val_binary_accuracy: 0.0000e+00\n",
      "Epoch 37/50\n",
      "\n",
      "Epoch 00037: LearningRateScheduler reducing learning rate to 3.0522738040753933e-10.\n",
      "215/215 [==============================] - 739s 3s/step - loss: 0.6876 - mean_squared_error: 0.0697 - binary_accuracy: 0.0000e+00 - val_loss: 0.6902 - val_mean_squared_error: 0.0719 - val_binary_accuracy: 0.0000e+00\n",
      "Epoch 38/50\n",
      "\n",
      "Epoch 00038: LearningRateScheduler reducing learning rate to 2.034849141037872e-10.\n",
      "215/215 [==============================] - 220s 1s/step - loss: 0.6877 - mean_squared_error: 0.0699 - binary_accuracy: 0.0000e+00 - val_loss: 0.6903 - val_mean_squared_error: 0.0719 - val_binary_accuracy: 0.0000e+00\n",
      "Epoch 39/50\n",
      "\n",
      "Epoch 00039: LearningRateScheduler reducing learning rate to 1.3565660631857193e-10.\n",
      "215/215 [==============================] - 220s 1s/step - loss: 0.6870 - mean_squared_error: 0.0698 - binary_accuracy: 0.0000e+00 - val_loss: 0.6903 - val_mean_squared_error: 0.0719 - val_binary_accuracy: 0.0000e+00\n",
      "Epoch 40/50\n",
      "\n",
      "Epoch 00040: LearningRateScheduler reducing learning rate to 9.043774062966747e-11.\n",
      "215/215 [==============================] - 218s 1s/step - loss: 0.6875 - mean_squared_error: 0.0700 - binary_accuracy: 0.0000e+00 - val_loss: 0.6903 - val_mean_squared_error: 0.0719 - val_binary_accuracy: 0.0000e+00\n",
      "Epoch 41/50\n",
      "\n",
      "Epoch 00041: LearningRateScheduler reducing learning rate to 6.029182708644498e-11.\n",
      "215/215 [==============================] - 250s 1s/step - loss: 0.6880 - mean_squared_error: 0.0700 - binary_accuracy: 0.0000e+00 - val_loss: 0.6903 - val_mean_squared_error: 0.0719 - val_binary_accuracy: 0.0000e+00\n",
      "Epoch 42/50\n",
      "\n",
      "Epoch 00042: LearningRateScheduler reducing learning rate to 4.019455139096332e-11.\n",
      "215/215 [==============================] - 774s 4s/step - loss: 0.6880 - mean_squared_error: 0.0698 - binary_accuracy: 0.0000e+00 - val_loss: 0.6902 - val_mean_squared_error: 0.0719 - val_binary_accuracy: 0.0000e+00\n",
      "Epoch 43/50\n",
      "\n",
      "Epoch 00043: LearningRateScheduler reducing learning rate to 2.6796368364963758e-11.\n",
      "215/215 [==============================] - 224s 1s/step - loss: 0.6877 - mean_squared_error: 0.0698 - binary_accuracy: 0.0000e+00 - val_loss: 0.6901 - val_mean_squared_error: 0.0718 - val_binary_accuracy: 0.0000e+00\n",
      "Epoch 44/50\n",
      "\n",
      "Epoch 00044: LearningRateScheduler reducing learning rate to 1.786424596213661e-11.\n",
      "215/215 [==============================] - 221s 1s/step - loss: 0.6878 - mean_squared_error: 0.0698 - binary_accuracy: 0.0000e+00 - val_loss: 0.6903 - val_mean_squared_error: 0.0719 - val_binary_accuracy: 0.0000e+00\n",
      "Epoch 45/50\n",
      "\n",
      "Epoch 00045: LearningRateScheduler reducing learning rate to 1.190949769358518e-11.\n",
      "215/215 [==============================] - 221s 1s/step - loss: 0.6877 - mean_squared_error: 0.0695 - binary_accuracy: 0.0000e+00 - val_loss: 0.6904 - val_mean_squared_error: 0.0720 - val_binary_accuracy: 0.0000e+00\n",
      "Epoch 46/50\n",
      "\n",
      "Epoch 00046: LearningRateScheduler reducing learning rate to 7.939665129056786e-12.\n",
      "215/215 [==============================] - 228s 1s/step - loss: 0.6879 - mean_squared_error: 0.0698 - binary_accuracy: 0.0000e+00 - val_loss: 0.6905 - val_mean_squared_error: 0.0720 - val_binary_accuracy: 0.0000e+00\n",
      "Epoch 47/50\n",
      "\n",
      "Epoch 00047: LearningRateScheduler reducing learning rate to 5.293110278784911e-12.\n",
      "215/215 [==============================] - 226s 1s/step - loss: 0.6875 - mean_squared_error: 0.0702 - binary_accuracy: 0.0000e+00 - val_loss: 0.6902 - val_mean_squared_error: 0.0719 - val_binary_accuracy: 0.0000e+00\n",
      "Epoch 48/50\n",
      "\n",
      "Epoch 00048: LearningRateScheduler reducing learning rate to 3.528740089483081e-12.\n",
      "215/215 [==============================] - 227s 1s/step - loss: 0.6874 - mean_squared_error: 0.0690 - binary_accuracy: 0.0000e+00 - val_loss: 0.6903 - val_mean_squared_error: 0.0719 - val_binary_accuracy: 0.0000e+00\n",
      "Epoch 49/50\n",
      "\n",
      "Epoch 00049: LearningRateScheduler reducing learning rate to 2.352493344801957e-12.\n",
      "215/215 [==============================] - 219s 1s/step - loss: 0.6876 - mean_squared_error: 0.0701 - binary_accuracy: 0.0000e+00 - val_loss: 0.6903 - val_mean_squared_error: 0.0719 - val_binary_accuracy: 0.0000e+00\n",
      "Epoch 50/50\n",
      "\n",
      "Epoch 00050: LearningRateScheduler reducing learning rate to 1.5683289447214015e-12.\n",
      "215/215 [==============================] - 229s 1s/step - loss: 0.6878 - mean_squared_error: 0.0700 - binary_accuracy: 0.0000e+00 - val_loss: 0.6903 - val_mean_squared_error: 0.0719 - val_binary_accuracy: 0.0000e+00\n"
     ]
    }
   ],
   "source": [
    "hist2 = ftilde_model.fit(x=X_train, y=p_star_train, epochs=50, batch_size=256, \n",
    "                         validation_data=(X_valid, p_star_valid), callbacks=[lr_scheduler]) "
   ]
  },
  {
   "cell_type": "code",
   "execution_count": null,
   "id": "2d1a4a57",
   "metadata": {},
   "outputs": [],
   "source": []
  },
  {
   "cell_type": "code",
   "execution_count": null,
   "id": "51fafefb",
   "metadata": {},
   "outputs": [],
   "source": []
  },
  {
   "cell_type": "code",
   "execution_count": null,
   "id": "5eaff7c9",
   "metadata": {},
   "outputs": [],
   "source": []
  },
  {
   "cell_type": "code",
   "execution_count": null,
   "id": "194e8b4b",
   "metadata": {},
   "outputs": [],
   "source": []
  },
  {
   "cell_type": "code",
   "execution_count": null,
   "id": "5c670753",
   "metadata": {},
   "outputs": [],
   "source": []
  },
  {
   "cell_type": "code",
   "execution_count": null,
   "id": "842e68aa",
   "metadata": {},
   "outputs": [],
   "source": []
  },
  {
   "cell_type": "markdown",
   "id": "e6ac66e6",
   "metadata": {},
   "source": [
    "The model has started to overfit... I might need to start many threads and only continue with the best models"
   ]
  },
  {
   "cell_type": "code",
   "execution_count": 83,
   "id": "b9425306",
   "metadata": {},
   "outputs": [
    {
     "data": {
      "image/png": "[encoded data removed]",
      "text/plain": [
       "<Figure size 432x288 with 1 Axes>"
      ]
     },
     "metadata": {
      "needs_background": "light"
     },
     "output_type": "display_data"
    }
   ],
   "source": [
    "plt.hist(p_star_test, bins=40, label='p*', alpha=0.5)\n",
    "plt.hist(fhat_model.predict(X_test), bins=40, label='fhat', alpha=0.5)\n",
    "plt.legend()\n",
    "plt.show()"
   ]
  },
  {
   "cell_type": "code",
   "execution_count": 86,
   "id": "ba785701",
   "metadata": {},
   "outputs": [
    {
     "data": {
      "image/png": "[encoded data removed]",
      "text/plain": [
       "<Figure size 432x288 with 1 Axes>"
      ]
     },
     "metadata": {
      "needs_background": "light"
     },
     "output_type": "display_data"
    }
   ],
   "source": [
    "plt.hist(p_star_test, bins=40, label='p*', alpha=0.5)\n",
    "plt.hist(ftilde_model.predict(X_test), bins=40, label='ftilde', alpha=0.5)\n",
    "plt.legend()\n",
    "plt.show()"
   ]
  },
  {
   "cell_type": "code",
   "execution_count": 87,
   "id": "01c3a457",
   "metadata": {},
   "outputs": [],
   "source": [
    "xs = np.linspace(0, 1, 101)\n",
    "preds = fhat_model.predict(X_test)\n",
    "out_y = []\n",
    "out_x = []\n",
    "for i in range(len(xs) - 1):\n",
    "    mask = np.logical_and(p_star_test > xs[i], p_star_test < xs[i + 1])\n",
    "    out_y.append(np.mean(preds[mask]))\n",
    "    out_x.append((xs[i] + xs[i + 1]) / 2.)"
   ]
  },
  {
   "cell_type": "code",
   "execution_count": 88,
   "id": "8adfba52",
   "metadata": {},
   "outputs": [
    {
     "data": {
      "image/png": "[encoded data removed]",
      "text/plain": [
       "<Figure size 432x288 with 1 Axes>"
      ]
     },
     "metadata": {
      "needs_background": "light"
     },
     "output_type": "display_data"
    }
   ],
   "source": [
    "plt.plot(out_x, out_y, 'o')\n",
    "plt.plot(p_star_test,p_star_test)\n",
    "plt.xlabel(\"truth\")\n",
    "plt.ylabel(\"predictions\")\n",
    "plt.title(\"Averaged over 100 intervals\")\n",
    "plt.show()"
   ]
  },
  {
   "cell_type": "code",
   "execution_count": 89,
   "id": "e106c77e",
   "metadata": {},
   "outputs": [
    {
     "data": {
      "image/png": "[encoded data removed]",
      "text/plain": [
       "<Figure size 432x288 with 1 Axes>"
      ]
     },
     "metadata": {
      "needs_background": "light"
     },
     "output_type": "display_data"
    }
   ],
   "source": [
    "plt.plot(p_star_test, preds, 'o', alpha=0.5, label='fhat')\n",
    "plt.plot(p_star_test,p_star_test)\n",
    "plt.legend()\n",
    "plt.xlabel(\"truth\")\n",
    "plt.ylabel(\"predictions\")\n",
    "plt.title(\"Raw data\")\n",
    "plt.show()"
   ]
  },
  {
   "cell_type": "code",
   "execution_count": 22,
   "id": "eb2d91a7",
   "metadata": {},
   "outputs": [
    {
     "name": "stdout",
     "output_type": "stream",
     "text": [
      "0.13372991008823298\n",
      "0.297872670459621\n"
     ]
    }
   ],
   "source": [
    "print(mse(p_star_test, small_resnet.predict(X_test)))\n",
    "print(mae(p_star_test, small_resnet.predict(X_test)))"
   ]
  },
  {
   "cell_type": "markdown",
   "id": "6f2b4b60",
   "metadata": {},
   "source": [
    "What a disaster! Time to try some more serious training :)"
   ]
  },
  {
   "cell_type": "code",
   "execution_count": null,
   "id": "d2d87b38",
   "metadata": {},
   "outputs": [],
   "source": []
  }
 ],
 "metadata": {
  "kernelspec": {
   "display_name": "Python 3",
   "language": "python",
   "name": "python3"
  },
  "language_info": {
   "codemirror_mode": {
    "name": "ipython",
    "version": 3
   },
   "file_extension": ".py",
   "mimetype": "text/x-python",
   "name": "python",
   "nbconvert_exporter": "python",
   "pygments_lexer": "ipython3",
   "version": "3.8.10"
  }
 },
 "nbformat": 4,
 "nbformat_minor": 5
}
